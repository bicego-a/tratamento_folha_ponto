{
  "nbformat": 4,
  "nbformat_minor": 0,
  "metadata": {
    "colab": {
      "provenance": [],
      "authorship_tag": "ABX9TyPZjnw/nfEnui1WlUElxm1W",
      "include_colab_link": true
    },
    "kernelspec": {
      "name": "python3",
      "display_name": "Python 3"
    },
    "language_info": {
      "name": "python"
    }
  },
  "cells": [
    {
      "cell_type": "markdown",
      "metadata": {
        "id": "view-in-github",
        "colab_type": "text"
      },
      "source": [
        "<a href=\"https://colab.research.google.com/github/bicego-a/tratamento_folha_ponto/blob/main/tratamentoTangerino.ipynb\" target=\"_parent\"><img src=\"https://colab.research.google.com/assets/colab-badge.svg\" alt=\"Open In Colab\"/></a>"
      ]
    },
    {
      "cell_type": "code",
      "execution_count": null,
      "metadata": {
        "id": "Iyfzs-s9neKp"
      },
      "outputs": [],
      "source": [
        "import pandas as pd\n",
        "import numpy as np\n",
        "\n",
        "from google.colab import drive\n",
        "drive.mount('/content/drive')"
      ]
    },
    {
      "cell_type": "code",
      "source": [
        "tangerino = '/content/drive/MyDrive/RFP-20241111-112510-062e5b.xls'\n",
        "\n",
        "df = pd.read_excel(tangerino)\n",
        "pd.set_option('display.max_columns', None)"
      ],
      "metadata": {
        "id": "6QdLtp_gno5r",
        "collapsed": true
      },
      "execution_count": null,
      "outputs": []
    },
    {
      "cell_type": "code",
      "source": [
        "#Apagar as 5 primeiras linhas que trazem dados do empregador para não confundir com os dados dos colaboradores no momento da extração em lista\n",
        "#RODAR APENAS UMA VEZZZZZZZ\n",
        "\n",
        "df = df.drop(df.index[:5])\n"
      ],
      "metadata": {
        "id": "-WktRzA89g1g"
      },
      "execution_count": null,
      "outputs": []
    },
    {
      "cell_type": "code",
      "source": [
        "#Cópia dos dados para uma nova coluna -> conversão para data -> conversão para string (manipulação)\n",
        "\n",
        "#Admissão\n",
        "df['Data_Admissao_Auxiliar'] = df['Unnamed: 3']\n",
        "df['Data_Admissao_Auxiliar'] = pd.to_datetime(df['Data_Admissao_Auxiliar'], errors='coerce')\n",
        "df['Data_Admissao_Auxiliar']=df['Data_Admissao_Auxiliar'].astype(str)\n",
        "\n",
        "#Ponto\n",
        "df['Data_Ponto_Auxiliar'] = df['Folha de Ponto']\n",
        "df['Data_Ponto_Auxiliar'] = pd.to_datetime(df['Data_Ponto_Auxiliar'], errors='coerce')\n",
        "df['Data_Ponto_Auxiliar']=df['Data_Ponto_Auxiliar'].astype(str)"
      ],
      "metadata": {
        "collapsed": true,
        "id": "zA4vy9ccaWGR"
      },
      "execution_count": null,
      "outputs": []
    },
    {
      "cell_type": "code",
      "source": [
        "# Identificar as linhas onde a coluna \"X\" contém \"Chave:\" /(formato: df)\n",
        "nome_ln = df[df['Folha de Ponto'].str.contains(\"Nome:\", na=False)]\n",
        "cpf_ln = df[df['Unnamed: 21'].str.contains(\"CPF:\", na=False)]\n",
        "admissao_ln = df[df['Folha de Ponto'].str.contains(\"Admissão:\", na=False)]\n",
        "cpts_ln = df[df['Unnamed: 7'].str.contains(\"CTPS:\", na=False)]\n",
        "serie_ln = df[df['Unnamed: 14'].str.contains(\"Série:\", na=False)]\n",
        "funcao_ln = df[df['Unnamed: 21'].str.contains(\"Função:\", na=False)]\n",
        "\n",
        "#Extrair valores das colunas de acordo com identificador /(formato: lista)\n",
        "nomes = nome_ln['Unnamed: 3'].values\n",
        "cptss = cpts_ln['Unnamed: 9'].values\n",
        "series = serie_ln['Unnamed: 16'].values\n",
        "admissoes = admissao_ln['Data_Admissao_Auxiliar'].values\n",
        "funcoes = funcao_ln['Unnamed: 26'].values\n",
        "cpfs= cpf_ln['Unnamed: 23'].values"
      ],
      "metadata": {
        "id": "BV4hwkHy5iMc"
      },
      "execution_count": null,
      "outputs": []
    },
    {
      "cell_type": "code",
      "source": [
        "# Lista de datas para o mês de outubro\n",
        "datas_outubro = [f\"2024-10-{str(i).zfill(2)}\" for i in range(1, 32)]\n",
        "\n",
        "colaboradores = []\n",
        "\n",
        "min_len = min(len(nomes), len(cpfs), len(cptss), len(series), len(admissoes), len(funcoes))\n",
        "\n",
        "# Montar o dicionário de cada colaborador /(formato: chave-valor)\n",
        "for i in range(min_len):\n",
        "    colaborador = {\n",
        "        'Nome': nomes[i] if i < len(nomes) else None,\n",
        "        'CPF': cpfs[i] if i < len(cpfs) else None,\n",
        "        'CTPS': cptss[i] if i < len(cptss) else None,\n",
        "        'Série': series[i] if i < len(series) else None,\n",
        "        'Admissão': admissoes[i] if i < len(admissoes) else None,\n",
        "        'Função': funcoes[i] if i < len(funcoes) else None,\n",
        "    }\n",
        "\n",
        "    #Montar DF linha a linha + lista com valores de acordo com a lista datas_outubro\n",
        "    for data in datas_outubro:\n",
        "        pontos_dia_ln = df[(df['Data_Ponto_Auxiliar'].str.contains(data, na=False))]\n",
        "        observacao_ln = df[(df['Data_Ponto_Auxiliar'].str.contains(data, na=False))]\n",
        "        if not pontos_dia_ln.empty:\n",
        "            pontos_dia = pontos_dia_ln['Unnamed: 22'].iloc[i] if i < len(pontos_dia_ln) else None\n",
        "            observacao = observacao_ln['Unnamed: 10'].iloc[i] if i < len(pontos_dia_ln) else None\n",
        "        else:\n",
        "            pontos_dia = None\n",
        "\n",
        "        # Cria a chave [data] e a atribui no dicionário `colaborador`. Também adiciona o valor da tupla (pontos_dia, observacao) referente à cada chave\n",
        "        colaborador[data] = pontos_dia, observacao\n",
        "\n",
        "    #Acrescentar registro na lista\n",
        "    colaboradores.append(colaborador)"
      ],
      "metadata": {
        "collapsed": true,
        "id": "rnvyHC8RurRK"
      },
      "execution_count": null,
      "outputs": []
    },
    {
      "cell_type": "code",
      "source": [
        "# Inicializa uma lista para armazenar os dados\n",
        "dados = []\n",
        "\n",
        "# Itera sobre cada colaborador na lista\n",
        "for colaborador in colaboradores:\n",
        "    # Extrai os dados principais (nome, cpf, ctps, serie)\n",
        "    nome = colaborador['Nome']\n",
        "    cpf = colaborador['CPF']\n",
        "    ctps = colaborador['CTPS']\n",
        "    serie = colaborador['Série']\n",
        "    admissao = colaborador['Admissão']\n",
        "    funcao = colaborador['Função']\n",
        "\n",
        "    # Itera sobre os registros de chave\n",
        "    for chave_data, tupla in colaborador.items():\n",
        "        if chave_data not in ['Nome', 'CPF', 'CTPS', 'Série', 'Admissão', 'Função']:\n",
        "            hora, observacao = tupla\n",
        "            # Cria um dicionário com os dados para essa chave e adiciona à lista\n",
        "            dados.append({\n",
        "                'nome': nome,\n",
        "                'cpf': cpf,\n",
        "                'ctps': ctps,\n",
        "                'serie': serie,\n",
        "                'admissao': admissao,\n",
        "                'funcao': funcao,\n",
        "                'data': chave_data,\n",
        "                'hora': hora if pd.notna(hora) else '',\n",
        "                'observacao': observacao if pd.notna(observacao) else ''\n",
        "            })\n",
        "\n",
        "# Cria o DataFrame\n",
        "df_final = pd.DataFrame(dados)\n",
        "\n",
        "# Exibe o DataFrame\n",
        "df_final.head(40)\n"
      ],
      "metadata": {
        "collapsed": true,
        "id": "BzoHe3XTabbN"
      },
      "execution_count": null,
      "outputs": []
    },
    {
      "cell_type": "code",
      "source": [
        "# Salvar DF no drive\n",
        "\n",
        "nome_arquivo = 'df_final.xlsx'\n",
        "caminho_arquivo = f'/content/drive/MyDrive/{nome_arquivo}'\n",
        "\n",
        "df_final.to_excel(caminho_arquivo, index=False)"
      ],
      "metadata": {
        "id": "pKiSgyTL6Bzm"
      },
      "execution_count": null,
      "outputs": []
    }
  ]
}